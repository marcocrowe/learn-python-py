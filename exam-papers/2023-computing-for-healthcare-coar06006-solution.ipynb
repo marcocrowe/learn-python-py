{
 "cells": [
  {
   "cell_type": "markdown",
   "metadata": {},
   "source": [
    "\n",
    "# Python Programming Practical Exam Medical Technology 1"
   ]
  },
  {
   "cell_type": "markdown",
   "metadata": {},
   "source": [
    "**26th April 2023**  "
   ]
  },
  {
   "cell_type": "markdown",
   "metadata": {},
   "source": [
    "## Question 1 (5 Marks)"
   ]
  },
  {
   "cell_type": "markdown",
   "metadata": {},
   "source": [
    "\n",
    "Input two numbers from the user and test which is the bigger of the two. The output should be in the following format: “**The larger of the numbers  *n1* and *n2* is *nbigger”***, where ***n1*** and ***n2*** are the numbers entered and ***nbigger*** is the larger of the two numbers."
   ]
  },
  {
   "cell_type": "code",
   "execution_count": 9,
   "metadata": {},
   "outputs": [
    {
     "name": "stdout",
     "output_type": "stream",
     "text": [
      "The larger of the numbers 50 and 34 is 50\n"
     ]
    }
   ],
   "source": [
    "number1 = 10\n",
    "number2 = 20\n",
    "\n",
    "number1 = int(input(\"Enter the first number: \"))\n",
    "number2 = int(input(\"Enter the second number: \"))\n",
    "\n",
    "if number1 > number2:\n",
    "    print(f\"The larger of the numbers {number1} and {number2} is {number1}\")\n",
    "elif number1 < number2:\n",
    "    print(f\"The larger of the numbers {number1} and {number2} is {number2}\")\n",
    "else:\n",
    "    print(\"The numbers are equal\")"
   ]
  },
  {
   "cell_type": "markdown",
   "metadata": {},
   "source": [
    "## Question 2 (5 Marks)"
   ]
  },
  {
   "cell_type": "markdown",
   "metadata": {},
   "source": [
    "Calculate the diameter and circumference of a pizza. Input the radius from the user. The diameter is twice the radius. The circumference is calculated as: $2\\pi r$ where $\\pi$ is approximately 3.14 and r is the radius. Print the result in the following format \"***For a pizza with radius r, the diameter is d and the circumference is c***\"\", where ***r*** is the radius, ***d*** is the diameter and ***c*** is the circumference."
   ]
  },
  {
   "cell_type": "code",
   "execution_count": 13,
   "metadata": {},
   "outputs": [
    {
     "name": "stdout",
     "output_type": "stream",
     "text": [
      "The area of the circle with radius 7.0, the diameter is 14.0 and the circumference is 43.96\n"
     ]
    }
   ],
   "source": [
    "PI = 3.14\n",
    "\n",
    "radius = 5\n",
    "radius = float(input(\"Enter the radius of the circle: \"))\n",
    "\n",
    "diameter = 2 * radius\n",
    "circumference = 2 * PI * radius\n",
    "\n",
    "print(f\"The area of the circle with radius {radius}, the diameter is {diameter} and the circumference is {circumference:.2f}\")\n"
   ]
  },
  {
   "cell_type": "markdown",
   "metadata": {},
   "source": [
    "## Question 3 (5 Marks)\n"
   ]
  },
  {
   "cell_type": "markdown",
   "metadata": {},
   "source": [
    "\n",
    "Use a loop to print the following numbers: 3, 6, 9, 12, 15, 18, 21.    (3 Marks)  \n",
    "\n"
   ]
  },
  {
   "cell_type": "code",
   "execution_count": 19,
   "metadata": {},
   "outputs": [
    {
     "name": "stdout",
     "output_type": "stream",
     "text": [
      "3 6 9 12 15 18 21 "
     ]
    }
   ],
   "source": [
    "START_NUMBER = 3\n",
    "END_NUMBER = 22\n",
    "STEP = 3\n",
    "\n",
    "for number in range(START_NUMBER, END_NUMBER, STEP):\n",
    "    print(number, end=\" \")"
   ]
  },
  {
   "cell_type": "markdown",
   "metadata": {},
   "source": [
    "## Question 4 (5 Marks)"
   ]
  },
  {
   "cell_type": "markdown",
   "metadata": {},
   "source": [
    "\n",
    "Input 6 numbers from the keyboard using a loop. Add up the numbers. Print the result in the format “***The sum of the numbers entered is: n***” , where n is the sum of the numbers entered."
   ]
  },
  {
   "cell_type": "code",
   "execution_count": 21,
   "metadata": {},
   "outputs": [
    {
     "name": "stdout",
     "output_type": "stream",
     "text": [
      "The sum of the numbers entered is: 24\n"
     ]
    }
   ],
   "source": [
    "\n",
    "sum=0\n",
    "for number in range (1, 7):\n",
    "    sum+=int(input(f\"Enter number {number}\"))\n",
    "\n",
    "print(f\"The sum of the numbers entered is: {sum}\")"
   ]
  },
  {
   "cell_type": "markdown",
   "metadata": {},
   "source": [
    "## Question 5 (5 Marks)\n",
    "Create a string called ***course*** containing the text \"Medical Technology 2022\" \n"
   ]
  },
  {
   "cell_type": "markdown",
   "metadata": {},
   "source": [
    "### Question 5.1 (2 Marks)\n",
    "Print the course initials side by side i.e. MT"
   ]
  },
  {
   "cell_type": "code",
   "execution_count": 46,
   "metadata": {},
   "outputs": [
    {
     "name": "stdout",
     "output_type": "stream",
     "text": [
      "TUS\n"
     ]
    }
   ],
   "source": [
    "course=\"Medical Technology 2022\"\n",
    "\n",
    "course=\"Technology University of Shannon 2024\"\n",
    "\n",
    "words = course.split()\n",
    "\n",
    "\n",
    "initials = \"\"\n",
    "for word in words:\n",
    "    if word[0].isalpha() and word[0].isupper():\n",
    "        initials+=word[0]\n",
    "        \n",
    "print(initials)\n",
    "\n"
   ]
  },
  {
   "cell_type": "markdown",
   "metadata": {},
   "source": [
    "### Question 5.2 (2 Marks)"
   ]
  },
  {
   "cell_type": "markdown",
   "metadata": {},
   "source": [
    "Print ***course***, character by character, each on a new line  (2 Marks) "
   ]
  },
  {
   "cell_type": "code",
   "execution_count": 38,
   "metadata": {},
   "outputs": [
    {
     "name": "stdout",
     "output_type": "stream",
     "text": [
      "T\n",
      "e\n",
      "c\n",
      "h\n",
      "n\n",
      "o\n",
      "l\n",
      "o\n",
      "g\n",
      "y\n",
      " \n",
      "U\n",
      "n\n",
      "i\n",
      "v\n",
      "e\n",
      "r\n",
      "s\n",
      "i\n",
      "t\n",
      "y\n",
      " \n",
      "o\n",
      "f\n",
      " \n",
      "S\n",
      "h\n",
      "a\n",
      "n\n",
      "n\n",
      "o\n",
      "n\n",
      " \n",
      "2\n",
      "0\n",
      "2\n",
      "4\n"
     ]
    }
   ],
   "source": [
    "for character in course:\n",
    "    print(character)"
   ]
  },
  {
   "cell_type": "markdown",
   "metadata": {},
   "source": [
    "### Question 5.3 (2 Marks)\n"
   ]
  },
  {
   "cell_type": "markdown",
   "metadata": {},
   "source": [
    "Print the first word in ***course***  (2 Marks) \n",
    " "
   ]
  },
  {
   "cell_type": "code",
   "execution_count": 45,
   "metadata": {},
   "outputs": [],
   "source": [
    "if len(words) > 0:\n",
    "    print(words[0])"
   ]
  },
  {
   "cell_type": "markdown",
   "metadata": {},
   "source": [
    "\n",
    "### Question 5.4 (5 Marks)"
   ]
  },
  {
   "cell_type": "code",
   "execution_count": 48,
   "metadata": {},
   "outputs": [
    {
     "data": {
      "text/plain": [
       "'Technology'"
      ]
     },
     "execution_count": 48,
     "metadata": {},
     "output_type": "execute_result"
    }
   ],
   "source": [
    "#Create a new string from course containing the word “Technology”\n",
    "\n"
   ]
  },
  {
   "cell_type": "markdown",
   "metadata": {},
   "source": [
    "\n",
    "Create a new string from ***course*** containing the word “Technology”   (2 Marks)  "
   ]
  },
  {
   "cell_type": "code",
   "execution_count": null,
   "metadata": {},
   "outputs": [],
   "source": []
  },
  {
   "cell_type": "markdown",
   "metadata": {},
   "source": [
    "\n",
    "### Question 5.5 (5 Marks)"
   ]
  },
  {
   "cell_type": "markdown",
   "metadata": {},
   "source": [
    "\n",
    "Count and display how many of the following words appear in ***course***: no, dice, log, echo"
   ]
  },
  {
   "cell_type": "markdown",
   "metadata": {},
   "source": [
    "7. Write a program that accepts a number of days e.g 18 as input (from keyboard) and converts that value to weeks and days. For example, 18 days would convert to 2 weeks and 4 days. The output should be in the format “18 days is equal to 2 weeks and 4 days”.  Hint: use modulo division % and floor division //  .    (7 Marks) \n"
   ]
  },
  {
   "cell_type": "code",
   "execution_count": 53,
   "metadata": {},
   "outputs": [
    {
     "name": "stdout",
     "output_type": "stream",
     "text": [
      "18 days is 2 weeks and 4 days\n"
     ]
    }
   ],
   "source": [
    "user_days = 18\n",
    "\n",
    "weeks = user_days // 7\n",
    "days = user_days % 7\n",
    "\n",
    "\n",
    "print(f\"{user_days} days is {weeks} weeks and {days} days\")"
   ]
  },
  {
   "cell_type": "markdown",
   "metadata": {},
   "source": []
  }
 ],
 "metadata": {
  "kernelspec": {
   "display_name": "base",
   "language": "python",
   "name": "python3"
  },
  "language_info": {
   "codemirror_mode": {
    "name": "ipython",
    "version": 3
   },
   "file_extension": ".py",
   "mimetype": "text/x-python",
   "name": "python",
   "nbconvert_exporter": "python",
   "pygments_lexer": "ipython3",
   "version": "3.12.4"
  }
 },
 "nbformat": 4,
 "nbformat_minor": 2
}
