{
 "cells": [
  {
   "cell_type": "markdown",
   "metadata": {},
   "source": [
    "\n",
    "# Python Programming Practical Exam Medical Technology 1"
   ]
  },
  {
   "cell_type": "markdown",
   "metadata": {},
   "source": [
    "**26th April 2023**  "
   ]
  },
  {
   "cell_type": "markdown",
   "metadata": {},
   "source": [
    "## Question 1 (5 Marks)"
   ]
  },
  {
   "cell_type": "markdown",
   "metadata": {},
   "source": [
    "\n",
    "Input two numbers from the user and test which is the bigger of the two. The output should be in the following format: “**The larger of the numbers  *n1* and *n2* is *nbigger”***, where ***n1*** and ***n2*** are the numbers entered and ***nbigger*** is the larger of the two numbers."
   ]
  },
  {
   "cell_type": "code",
   "execution_count": 9,
   "metadata": {},
   "outputs": [
    {
     "name": "stdout",
     "output_type": "stream",
     "text": [
      "The larger of the numbers 50 and 34 is 50\n"
     ]
    }
   ],
   "source": [
    "number1 = 10\n",
    "number2 = 20\n",
    "\n",
    "number1 = int(input(\"Enter the first number: \"))\n",
    "number2 = int(input(\"Enter the second number: \"))\n",
    "\n",
    "if number1 > number2:\n",
    "    print(f\"The larger of the numbers {number1} and {number2} is {number1}\")\n",
    "elif number1 < number2:\n",
    "    print(f\"The larger of the numbers {number1} and {number2} is {number2}\")\n",
    "else:\n",
    "    print(\"The numbers are equal\")"
   ]
  },
  {
   "cell_type": "markdown",
   "metadata": {},
   "source": [
    "## Question 2 (5 Marks)"
   ]
  },
  {
   "cell_type": "markdown",
   "metadata": {},
   "source": [
    "Calculate the diameter and circumference of a pizza. Input the radius from the user. The diameter is twice the radius. The circumference is calculated as: $2\\pi r$ where $\\pi$ is approximately 3.14 and r is the radius. Print the result in the following format \"***For a pizza with radius r, the diameter is d and the circumference is c***\"\", where ***r*** is the radius, ***d*** is the diameter and ***c*** is the circumference."
   ]
  },
  {
   "cell_type": "code",
   "execution_count": 13,
   "metadata": {},
   "outputs": [
    {
     "name": "stdout",
     "output_type": "stream",
     "text": [
      "The area of the circle with radius 7.0, the diameter is 14.0 and the circumference is 43.96\n"
     ]
    }
   ],
   "source": [
    "PI = 3.14\n",
    "\n",
    "radius = 5\n",
    "radius = float(input(\"Enter the radius of the circle: \"))\n",
    "\n",
    "diameter = 2 * radius\n",
    "circumference = 2 * PI * radius\n",
    "\n",
    "print(f\"The area of the circle with radius {radius}, the diameter is {diameter} and the circumference is {circumference:.2f}\")\n"
   ]
  },
  {
   "cell_type": "markdown",
   "metadata": {},
   "source": [
    "\n",
    "3. Use a loop to print the following numbers: 3, 6, 9, 12, 15, 18, 21.    (3 Marks)  \n",
    "3. Input 6 numbers from the keyboard using a loop. Add up the numbers. Print the result in the format “***The sum of the numbers entered is: n***” , where n is the sum of the numbers entered.   (5 Marks)  \n",
    "3. Create a string called ***course*** containing the text “Medical Technology 2022” \n",
    "   1. Print the course initials side by side i.e. MT  (2 Marks) \n",
    "   1. Print ***course***, character by character, each on a new line  (2 Marks) \n",
    "   1. Print the first word in ***course***  (2 Marks)  \n",
    "   1. Create a new string from ***course*** containing the word “Technology”   (2 Marks)  \n",
    "   1. Count and display how many of the following words appear in ***course***: no, dice, log, echo    (5 Marks)  \n",
    "3. Write a program that accepts a number of days e.g 18 as input (from keyboard) and converts that value to weeks and days. For example, 18 days would convert to 2 weeks and 4 days. The output should be in the format “18 days is equal to 2 weeks and 4 days”.  Hint: use modulo division % and floor division //  .    (7 Marks) \n"
   ]
  },
  {
   "cell_type": "markdown",
   "metadata": {},
   "source": []
  }
 ],
 "metadata": {
  "kernelspec": {
   "display_name": "base",
   "language": "python",
   "name": "python3"
  },
  "language_info": {
   "codemirror_mode": {
    "name": "ipython",
    "version": 3
   },
   "file_extension": ".py",
   "mimetype": "text/x-python",
   "name": "python",
   "nbconvert_exporter": "python",
   "pygments_lexer": "ipython3",
   "version": "3.12.4"
  }
 },
 "nbformat": 4,
 "nbformat_minor": 2
}
