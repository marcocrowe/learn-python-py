{
 "cells": [
  {
   "cell_type": "markdown",
   "metadata": {},
   "source": [
    "\n",
    "# Python Programming Practical Exam Medical Technology 1"
   ]
  },
  {
   "cell_type": "markdown",
   "metadata": {},
   "source": [
    "**26th April 2023**  "
   ]
  },
  {
   "cell_type": "markdown",
   "metadata": {},
   "source": [
    "<!--\n",
    "import data_analytics.github as github\n",
    "print(github.create_jupyter_notebook_header(\"marcocrowe\", \"learn-python-py\", \"exam-papers/2023-computing-for-healthcare-coar06006-solution-pro.ipynb\", \"master\"))\n",
    "-->\n",
    "<table style=\"margin: auto;\"><tr><td><a href=\"https://mybinder.org/v2/gh/marcocrowe/learn-python-py/master?filepath=exam-papers/2023-computing-for-healthcare-coar06006-solution-pro.ipynb\" target=\"_parent\"><img src=\"https://mybinder.org/badge_logo.svg\" alt=\"Open In Binder\"/></a></td><td>online editors</td><td><a href=\"https://colab.research.google.com/github/marcocrowe/learn-python-py/blob/master/exam-papers/2023-computing-for-healthcare-coar06006-solution-pro.ipynb\" target=\"_parent\"><img src=\"https://colab.research.google.com/assets/colab-badge.svg\" alt=\"Open In Colab\"/></a></td></tr></table>"
   ]
  },
  {
   "cell_type": "markdown",
   "metadata": {},
   "source": [
    "## Question 1 (5 Marks)"
   ]
  },
  {
   "cell_type": "markdown",
   "metadata": {},
   "source": [
    "Input two numbers from the user and test which is the bigger of the two. The output should be in the following format: “**The larger of the numbers  *n1* and *n2* is *nbigger”***, where ***n1*** and ***n2*** are the numbers entered and ***nbigger*** is the larger of the two numbers."
   ]
  },
  {
   "cell_type": "markdown",
   "metadata": {},
   "source": [
    "\n",
    "## Answer 1"
   ]
  },
  {
   "cell_type": "code",
   "execution_count": 39,
   "metadata": {},
   "outputs": [
    {
     "name": "stdout",
     "output_type": "stream",
     "text": [
      "Using default value 10\n",
      "Using default value 100\n",
      "The larger of the numbers 10 and 100 is 100\n"
     ]
    }
   ],
   "source": [
    "number1_input = input(\"Enter the first number: \")\n",
    "number2_input = input(\"Enter the second number: \")\n",
    "\n",
    "if number1_input == \"\":\n",
    "    number1_input = 10\n",
    "    print(f\"Using default value {number1_input}\")\n",
    "\n",
    "if number2_input == \"\":\n",
    "    number2_input = 100\n",
    "    print(f\"Using default value {number2_input}\")\n",
    "\n",
    "\n",
    "number1 = int(number1_input)\n",
    "number2 = int(number2_input)\n",
    "\n",
    "\n",
    "if number1 > number2:\n",
    "    print(f\"The larger of the numbers {number1} and {number2} is {number1}\")\n",
    "elif number1 < number2:\n",
    "    print(f\"The larger of the numbers {number1} and {number2} is {number2}\")\n",
    "else:\n",
    "    print(\"The numbers are equal\")"
   ]
  },
  {
   "cell_type": "markdown",
   "metadata": {},
   "source": [
    "## Question 2 (5 Marks)"
   ]
  },
  {
   "cell_type": "markdown",
   "metadata": {},
   "source": [
    "Calculate the diameter and circumference of a pizza. Input the radius from the user. The diameter is twice the radius. The circumference is calculated as: $2\\pi r$ where $\\pi$ is approximately 3.14 and r is the radius. Print the result in the following format \"***For a pizza with radius r, the diameter is d and the circumference is c***\"\", where ***r*** is the radius, ***d*** is the diameter and ***c*** is the circumference."
   ]
  },
  {
   "cell_type": "markdown",
   "metadata": {},
   "source": [
    "\n",
    "## Answer 2"
   ]
  },
  {
   "cell_type": "code",
   "execution_count": 40,
   "metadata": {},
   "outputs": [
    {
     "name": "stdout",
     "output_type": "stream",
     "text": [
      "Using default value 6.0\n",
      "The area of the circle with radius 6.0, the diameter is 12.0 and the circumference is 37.68\n"
     ]
    }
   ],
   "source": [
    "PI = 3.14\n",
    "\n",
    "radius_input = input(\"Enter the radius of the circle: \")\n",
    "if radius_input == \"\":\n",
    "    radius_input = 6.0\n",
    "    print(f\"Using default value {radius_input}\")\n",
    "\n",
    "radius = float(radius_input)\n",
    "\n",
    "diameter = 2 * radius\n",
    "circumference = 2 * PI * radius\n",
    "\n",
    "print(\n",
    "    f\"The area of the circle with radius {radius}, the diameter is {diameter} and the circumference is {circumference:.2f}\"\n",
    ")"
   ]
  },
  {
   "cell_type": "markdown",
   "metadata": {},
   "source": [
    "## Question 3 (3 Marks)"
   ]
  },
  {
   "cell_type": "markdown",
   "metadata": {},
   "source": [
    "Use a loop to print the following numbers: 3, 6, 9, 12, 15, 18, 21."
   ]
  },
  {
   "cell_type": "markdown",
   "metadata": {},
   "source": [
    "\n",
    "### Answer 3"
   ]
  },
  {
   "cell_type": "code",
   "execution_count": 41,
   "metadata": {},
   "outputs": [
    {
     "name": "stdout",
     "output_type": "stream",
     "text": [
      "3 6 9 12 15 18 21 "
     ]
    }
   ],
   "source": [
    "START_NUMBER = 3\n",
    "END_NUMBER = 22\n",
    "STEP = 3\n",
    "\n",
    "for number in range(START_NUMBER, END_NUMBER, STEP):\n",
    "    print(number, end=\" \")"
   ]
  },
  {
   "cell_type": "markdown",
   "metadata": {},
   "source": [
    "## Question 4 (5 Marks)"
   ]
  },
  {
   "cell_type": "markdown",
   "metadata": {},
   "source": [
    "\n",
    "Input 6 numbers from the keyboard using a loop. Add up the numbers. Print the result in the format “***The sum of the numbers entered is: n***” , where n is the sum of the numbers entered."
   ]
  },
  {
   "cell_type": "markdown",
   "metadata": {},
   "source": [
    "\n",
    "### Answer 4"
   ]
  },
  {
   "cell_type": "code",
   "execution_count": 42,
   "metadata": {},
   "outputs": [
    {
     "name": "stdout",
     "output_type": "stream",
     "text": [
      "Using default value 1\n",
      "Using default value 2\n",
      "Using default value 3\n",
      "Using default value 4\n",
      "Using default value 5\n",
      "Using default value 6\n",
      "The sum of the numbers entered is: 18\n"
     ]
    }
   ],
   "source": [
    "sum = 0\n",
    "for number in range(1, 7):\n",
    "    number_input = input(f\"Enter number {number}: \")\n",
    "    if number_input == \"\":\n",
    "        number_input = 3\n",
    "        print(f\"Using default value {number}\")\n",
    "    sum += int(number_input)\n",
    "\n",
    "print(f\"The sum of the numbers entered is: {sum}\")"
   ]
  },
  {
   "cell_type": "markdown",
   "metadata": {},
   "source": [
    "## Question 5 (5 Marks)\n"
   ]
  },
  {
   "cell_type": "markdown",
   "metadata": {},
   "source": [
    "Create a string called ***course*** containing the text \"Medical Technology 2022\" \n"
   ]
  },
  {
   "cell_type": "markdown",
   "metadata": {},
   "source": [
    "### Question 5.1 (2 Marks)\n",
    "\n",
    "Print the course initials side by side i.e. MT\n"
   ]
  },
  {
   "cell_type": "markdown",
   "metadata": {},
   "source": [
    "### Answer 5.1"
   ]
  },
  {
   "cell_type": "code",
   "execution_count": 43,
   "metadata": {},
   "outputs": [
    {
     "name": "stdout",
     "output_type": "stream",
     "text": [
      "Using default value Medical Technology 2022\n",
      "MT\n"
     ]
    }
   ],
   "source": [
    "course = input(\"Enter the course name: \")\n",
    "\n",
    "if course == \"\":\n",
    "    course = \"Medical Technology 2022\"\n",
    "    print(f\"Using default value {course}\")\n",
    "\n",
    "\n",
    "words = course.split()\n",
    "initials = \"\"\n",
    "\n",
    "\n",
    "for word in words:\n",
    "    if word[0].isupper():\n",
    "        initials += word[0]\n",
    "\n",
    "print(initials)"
   ]
  },
  {
   "cell_type": "markdown",
   "metadata": {},
   "source": [
    "### Question 5.2 (2 Marks)"
   ]
  },
  {
   "cell_type": "markdown",
   "metadata": {},
   "source": [
    "Print ***course***, character by character, each on a new line  (2 Marks) \n"
   ]
  },
  {
   "cell_type": "markdown",
   "metadata": {},
   "source": [
    "\n",
    "### Answer 5.2"
   ]
  },
  {
   "cell_type": "code",
   "execution_count": 44,
   "metadata": {},
   "outputs": [
    {
     "name": "stdout",
     "output_type": "stream",
     "text": [
      "M\n",
      "e\n",
      "d\n",
      "i\n",
      "c\n",
      "a\n",
      "l\n",
      " \n",
      "T\n",
      "e\n",
      "c\n",
      "h\n",
      "n\n",
      "o\n",
      "l\n",
      "o\n",
      "g\n",
      "y\n",
      " \n",
      "2\n",
      "0\n",
      "2\n",
      "2\n"
     ]
    }
   ],
   "source": [
    "for character in course:\n",
    "    print(character)"
   ]
  },
  {
   "cell_type": "markdown",
   "metadata": {},
   "source": [
    "### Question 5.3 (2 Marks)"
   ]
  },
  {
   "cell_type": "markdown",
   "metadata": {},
   "source": [
    "Print the first word in ***course***  (2 Marks) \n"
   ]
  },
  {
   "cell_type": "markdown",
   "metadata": {},
   "source": [
    "### Answer 5.3"
   ]
  },
  {
   "cell_type": "code",
   "execution_count": 45,
   "metadata": {},
   "outputs": [
    {
     "name": "stdout",
     "output_type": "stream",
     "text": [
      "Medical\n"
     ]
    }
   ],
   "source": [
    "if len(words) > 0:\n",
    "    print(words[0])"
   ]
  },
  {
   "cell_type": "markdown",
   "metadata": {},
   "source": [
    "### Question 5.4 (2 Marks)"
   ]
  },
  {
   "cell_type": "markdown",
   "metadata": {},
   "source": [
    "Create a new string from `course` containing the word \"Technology\""
   ]
  },
  {
   "cell_type": "code",
   "execution_count": 46,
   "metadata": {},
   "outputs": [
    {
     "name": "stdout",
     "output_type": "stream",
     "text": [
      "Technology\n"
     ]
    }
   ],
   "source": [
    "first_word = words[1]\n",
    "print(first_word)"
   ]
  },
  {
   "cell_type": "markdown",
   "metadata": {},
   "source": [
    "### Answer 5.4"
   ]
  },
  {
   "cell_type": "markdown",
   "metadata": {},
   "source": [
    "### Question 5.5 (5 Marks)"
   ]
  },
  {
   "cell_type": "markdown",
   "metadata": {},
   "source": [
    "Count and display how many of the following words [no, dice, log, echo] appear in the string variable `course`:  "
   ]
  },
  {
   "cell_type": "markdown",
   "metadata": {},
   "source": [
    "### Answer 5.5"
   ]
  },
  {
   "cell_type": "code",
   "execution_count": 47,
   "metadata": {},
   "outputs": [
    {
     "name": "stdout",
     "output_type": "stream",
     "text": [
      "Medical Technology 2022\n",
      "no was found in the course name: 1 times\n",
      "dice was found in the course name: 0 times\n",
      "log was found in the course name: 1 times\n",
      "echo was found in the course name: 0 times\n"
     ]
    }
   ],
   "source": [
    "print(course)\n",
    "\n",
    "search_words = [\"no\", \"dice\", \"log\", \"echo\"]\n",
    "\n",
    "for search_word in search_words:\n",
    "    print(\n",
    "        f\"{search_word} was found in the course name: {course.count(search_word)} times\"\n",
    "    )"
   ]
  },
  {
   "cell_type": "markdown",
   "metadata": {},
   "source": [
    "### Question 5.6 (7 Marks)"
   ]
  },
  {
   "cell_type": "markdown",
   "metadata": {},
   "source": [
    "Write a program that accepts a number of days e.g 18 as input (from keyboard) and converts that value to weeks and days. For example, 18 days would convert to 2 weeks and 4 days. The output should be in the format “18 days is equal to 2 weeks and 4 days”.  Hint: use modulo division % and floor division // .\n"
   ]
  },
  {
   "cell_type": "markdown",
   "metadata": {},
   "source": [
    "### Answer 5.6"
   ]
  },
  {
   "cell_type": "code",
   "execution_count": 48,
   "metadata": {},
   "outputs": [
    {
     "name": "stdout",
     "output_type": "stream",
     "text": [
      "9 /  2 = 4.5\n",
      "9 // 2 = 4\n",
      "9 % 2 = 1\n"
     ]
    }
   ],
   "source": [
    "example_number = 9\n",
    "example_divisor = 2\n",
    "print(f\"{example_number} /  {example_divisor} = {example_number / example_divisor}\")\n",
    "print(f\"{example_number} // {example_divisor} = {example_number // example_divisor}\")\n",
    "print(f\"{example_number} % {example_divisor} = {example_number % example_divisor}\")"
   ]
  },
  {
   "cell_type": "code",
   "execution_count": 49,
   "metadata": {},
   "outputs": [
    {
     "name": "stdout",
     "output_type": "stream",
     "text": [
      "Using default value 19\n",
      "19 days is 2 weeks and 3 days\n"
     ]
    }
   ],
   "source": [
    "NUMBER_OF_DAYS_IN_A_WEEK = 8\n",
    "\n",
    "user_days_input = input(\"Enter the number of days: \")\n",
    "\n",
    "if user_days_input == \"\":\n",
    "    user_days_input = 19\n",
    "    print(f\"Using default value {user_days_input}\")\n",
    "\n",
    "user_days = int(user_days_input)\n",
    "\n",
    "weeks = user_days // NUMBER_OF_DAYS_IN_A_WEEK\n",
    "days = user_days % NUMBER_OF_DAYS_IN_A_WEEK\n",
    "\n",
    "\n",
    "print(f\"{user_days} days is {weeks} weeks and {days} days\")"
   ]
  },
  {
   "cell_type": "markdown",
   "metadata": {},
   "source": [
    "---\n",
    "\n",
    "Author : [Mark Crowe](https://github.com/marcocrowe). \n",
    "\n",
    "Copyright &copy; 2024, Mark Crowe. All Rights Reserved."
   ]
  }
 ],
 "metadata": {
  "kernelspec": {
   "display_name": "base",
   "language": "python",
   "name": "python3"
  },
  "language_info": {
   "codemirror_mode": {
    "name": "ipython",
    "version": 3
   },
   "file_extension": ".py",
   "mimetype": "text/x-python",
   "name": "python",
   "nbconvert_exporter": "python",
   "pygments_lexer": "ipython3",
   "version": "3.12.4"
  }
 },
 "nbformat": 4,
 "nbformat_minor": 2
}
